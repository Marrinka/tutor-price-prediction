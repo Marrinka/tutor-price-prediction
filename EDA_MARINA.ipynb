{
  "cells": [
    {
      "cell_type": "code",
      "execution_count": 1,
      "metadata": {
        "colab": {
          "base_uri": "https://localhost:8080/"
        },
        "id": "6Kaa1Pu5gcA7",
        "outputId": "ba3278a1-385c-435c-9cdc-b500c947e6bb"
      },
      "outputs": [
        {
          "name": "stdout",
          "output_type": "stream",
          "text": [
            "zsh:1: command not found: pip\n",
            "zsh:1: command not found: pip\n"
          ]
        }
      ],
      "source": [
        "!pip install openpyxl\n",
        "!pip install optuna"
      ]
    },
    {
      "cell_type": "code",
      "execution_count": 67,
      "metadata": {
        "id": "7j0wjVkpgcA-"
      },
      "outputs": [],
      "source": [
        "import pandas as pd\n",
        "import seaborn as sns\n",
        "from scipy.stats import shapiro\n",
        "import numpy as np\n",
        "from tqdm import tqdm\n",
        "from sklearn.feature_extraction.text import TfidfVectorizer\n",
        "from sklearn.decomposition import TruncatedSVD, PCA"
      ]
    },
    {
      "cell_type": "code",
      "execution_count": 68,
      "metadata": {
        "id": "fPtdxIbPgcA_"
      },
      "outputs": [],
      "source": [
        "train = pd.read_excel(\"train.xlsx\").drop(columns=\"Unnamed: 0\")\n",
        "test = pd.read_excel(\"test.xlsx\").drop(columns=\"Unnamed: 0\")"
      ]
    },
    {
      "cell_type": "code",
      "execution_count": 69,
      "metadata": {
        "colab": {
          "base_uri": "https://localhost:8080/",
          "height": 671
        },
        "id": "26bBuZLLgcBA",
        "outputId": "03de2471-7186-45c0-84e6-fd4ec1bef8a3"
      },
      "outputs": [
        {
          "data": {
            "text/html": [
              "<div>\n",
              "<style scoped>\n",
              "    .dataframe tbody tr th:only-of-type {\n",
              "        vertical-align: middle;\n",
              "    }\n",
              "\n",
              "    .dataframe tbody tr th {\n",
              "        vertical-align: top;\n",
              "    }\n",
              "\n",
              "    .dataframe thead th {\n",
              "        text-align: right;\n",
              "    }\n",
              "</style>\n",
              "<table border=\"1\" class=\"dataframe\">\n",
              "  <thead>\n",
              "    <tr style=\"text-align: right;\">\n",
              "      <th></th>\n",
              "      <th>предмет</th>\n",
              "      <th>ФИО</th>\n",
              "      <th>tutor_head_tags</th>\n",
              "      <th>tutor_rating</th>\n",
              "      <th>tutor_reviews</th>\n",
              "      <th>description</th>\n",
              "      <th>experience_desc</th>\n",
              "      <th>Education_1</th>\n",
              "      <th>Desc_Education_1</th>\n",
              "      <th>Education_2</th>\n",
              "      <th>...</th>\n",
              "      <th>status</th>\n",
              "      <th>experience</th>\n",
              "      <th>Desc_Education_5</th>\n",
              "      <th>Desc_Education_6</th>\n",
              "      <th>Education_5</th>\n",
              "      <th>Education_6</th>\n",
              "      <th>Ученая степень 2</th>\n",
              "      <th>Ученое звание 2</th>\n",
              "      <th>categories</th>\n",
              "      <th>mean_price</th>\n",
              "    </tr>\n",
              "  </thead>\n",
              "  <tbody>\n",
              "    <tr>\n",
              "      <th>0</th>\n",
              "      <td>matematika</td>\n",
              "      <td>Репетитор по математике  Емельянова Марина Вла...</td>\n",
              "      <td>['Школьная программа', 'Подготовка к ЕГЭ', 'По...</td>\n",
              "      <td>5.0</td>\n",
              "      <td>2</td>\n",
              "      <td>Репетитор не предоставил о себе дополн...</td>\n",
              "      <td>NaN</td>\n",
              "      <td>Томский государственный университет им. В.В. ...</td>\n",
              "      <td>Год окончания: 1990, Факультет: механико-мате...</td>\n",
              "      <td>NaN</td>\n",
              "      <td>...</td>\n",
              "      <td>Университетский преподаватель</td>\n",
              "      <td>31 год</td>\n",
              "      <td>NaN</td>\n",
              "      <td>NaN</td>\n",
              "      <td>NaN</td>\n",
              "      <td>NaN</td>\n",
              "      <td>NaN</td>\n",
              "      <td>NaN</td>\n",
              "      <td>['Школьники с 5 по 9 класс', 'Школьники с 10 п...</td>\n",
              "      <td>16.666667</td>\n",
              "    </tr>\n",
              "    <tr>\n",
              "      <th>1</th>\n",
              "      <td>matematika</td>\n",
              "      <td>Репетитор по математике  Назарова Анастасия Ан...</td>\n",
              "      <td>['Школьная программа', 'Подготовка к ЕГЭ', 'По...</td>\n",
              "      <td>4.0</td>\n",
              "      <td>7</td>\n",
              "      <td>Репетитор не предоставил о себе дополн...</td>\n",
              "      <td>NaN</td>\n",
              "      <td>Вологодский государственный педагогический ун...</td>\n",
              "      <td>Год окончания: 2017, Факультет: факультет при...</td>\n",
              "      <td>Череповецкий государственный университет</td>\n",
              "      <td>...</td>\n",
              "      <td>Школьный преподаватель</td>\n",
              "      <td>8 лет</td>\n",
              "      <td>NaN</td>\n",
              "      <td>NaN</td>\n",
              "      <td>NaN</td>\n",
              "      <td>NaN</td>\n",
              "      <td>NaN</td>\n",
              "      <td>NaN</td>\n",
              "      <td>['Школьники с 5 по 9 класс', 'Школьники с 10 п...</td>\n",
              "      <td>11.666667</td>\n",
              "    </tr>\n",
              "    <tr>\n",
              "      <th>2</th>\n",
              "      <td>informatika</td>\n",
              "      <td>Репетитор по информатике Мотроненко Инна Конст...</td>\n",
              "      <td>['Школьная программа', 'Подготовка к ЕГЭ', 'По...</td>\n",
              "      <td>0.0</td>\n",
              "      <td>0</td>\n",
              "      <td>Выезд за город: Балашиха-1, Балашиха-2...</td>\n",
              "      <td>Московская Школа (учитель ...</td>\n",
              "      <td>Московский городской педагогический университет</td>\n",
              "      <td>Год окончания: 2008, Факультет: Математически...</td>\n",
              "      <td>Московский городской педагогический университ...</td>\n",
              "      <td>...</td>\n",
              "      <td>Школьный преподаватель</td>\n",
              "      <td>11 лет</td>\n",
              "      <td>NaN</td>\n",
              "      <td>NaN</td>\n",
              "      <td>NaN</td>\n",
              "      <td>NaN</td>\n",
              "      <td>NaN</td>\n",
              "      <td>NaN</td>\n",
              "      <td>['Школьники с 5 по 9 класс', 'Школьники с 10 п...</td>\n",
              "      <td>23.333333</td>\n",
              "    </tr>\n",
              "    <tr>\n",
              "      <th>3</th>\n",
              "      <td>matematika</td>\n",
              "      <td>Репетитор по математике  Логинова Елизавета Ал...</td>\n",
              "      <td>['Школьная программа', 'Математический анализ'...</td>\n",
              "      <td>4.0</td>\n",
              "      <td>19</td>\n",
              "      <td>Здравствуйте! Меня зовут Елизавета, о...</td>\n",
              "      <td>NaN</td>\n",
              "      <td>Санкт-Петербургский государственный университет</td>\n",
              "      <td>Год окончания: 2021, Факультет: физический фа...</td>\n",
              "      <td>NaN</td>\n",
              "      <td>...</td>\n",
              "      <td>Частный преподаватель</td>\n",
              "      <td>5 лет</td>\n",
              "      <td>NaN</td>\n",
              "      <td>NaN</td>\n",
              "      <td>NaN</td>\n",
              "      <td>NaN</td>\n",
              "      <td>NaN</td>\n",
              "      <td>NaN</td>\n",
              "      <td>['Школьники с 1 по 4 класс', 'Школьники с 5 по...</td>\n",
              "      <td>0.116667</td>\n",
              "    </tr>\n",
              "    <tr>\n",
              "      <th>4</th>\n",
              "      <td>matematika</td>\n",
              "      <td>Репетитор по математике  Харланов Олег Викторо...</td>\n",
              "      <td>['Школьная программа', 'Подготовка к ЕГЭ', 'По...</td>\n",
              "      <td>0.0</td>\n",
              "      <td>0</td>\n",
              "      <td>Целеустремленный, ориентирован на резу...</td>\n",
              "      <td>преподавателем           ...</td>\n",
              "      <td>Приазовский государственный технический униве...</td>\n",
              "      <td>Год окончания: 2005, Факультет: Энергетически...</td>\n",
              "      <td>NaN</td>\n",
              "      <td>...</td>\n",
              "      <td>Частный преподаватель</td>\n",
              "      <td>19 лет</td>\n",
              "      <td>NaN</td>\n",
              "      <td>NaN</td>\n",
              "      <td>NaN</td>\n",
              "      <td>NaN</td>\n",
              "      <td>NaN</td>\n",
              "      <td>NaN</td>\n",
              "      <td>['Школьники с 5 по 9 класс', 'Школьники с 10 п...</td>\n",
              "      <td>16.666667</td>\n",
              "    </tr>\n",
              "  </tbody>\n",
              "</table>\n",
              "<p>5 rows × 27 columns</p>\n",
              "</div>"
            ],
            "text/plain": [
              "       предмет                                                ФИО  \\\n",
              "0   matematika  Репетитор по математике  Емельянова Марина Вла...   \n",
              "1   matematika  Репетитор по математике  Назарова Анастасия Ан...   \n",
              "2  informatika  Репетитор по информатике Мотроненко Инна Конст...   \n",
              "3   matematika  Репетитор по математике  Логинова Елизавета Ал...   \n",
              "4   matematika  Репетитор по математике  Харланов Олег Викторо...   \n",
              "\n",
              "                                     tutor_head_tags  tutor_rating  \\\n",
              "0  ['Школьная программа', 'Подготовка к ЕГЭ', 'По...           5.0   \n",
              "1  ['Школьная программа', 'Подготовка к ЕГЭ', 'По...           4.0   \n",
              "2  ['Школьная программа', 'Подготовка к ЕГЭ', 'По...           0.0   \n",
              "3  ['Школьная программа', 'Математический анализ'...           4.0   \n",
              "4  ['Школьная программа', 'Подготовка к ЕГЭ', 'По...           0.0   \n",
              "\n",
              "   tutor_reviews                                        description  \\\n",
              "0              2          Репетитор не предоставил о себе дополн...   \n",
              "1              7          Репетитор не предоставил о себе дополн...   \n",
              "2              0          Выезд за город: Балашиха-1, Балашиха-2...   \n",
              "3             19           Здравствуйте! Меня зовут Елизавета, о...   \n",
              "4              0          Целеустремленный, ориентирован на резу...   \n",
              "\n",
              "                                     experience_desc  \\\n",
              "0                                                NaN   \n",
              "1                                                NaN   \n",
              "2                      Московская Школа (учитель ...   \n",
              "3                                                NaN   \n",
              "4                       преподавателем           ...   \n",
              "\n",
              "                                         Education_1  \\\n",
              "0   Томский государственный университет им. В.В. ...   \n",
              "1   Вологодский государственный педагогический ун...   \n",
              "2   Московский городской педагогический университет    \n",
              "3   Санкт-Петербургский государственный университет    \n",
              "4   Приазовский государственный технический униве...   \n",
              "\n",
              "                                    Desc_Education_1  \\\n",
              "0   Год окончания: 1990, Факультет: механико-мате...   \n",
              "1   Год окончания: 2017, Факультет: факультет при...   \n",
              "2   Год окончания: 2008, Факультет: Математически...   \n",
              "3   Год окончания: 2021, Факультет: физический фа...   \n",
              "4   Год окончания: 2005, Факультет: Энергетически...   \n",
              "\n",
              "                                         Education_2  ...  \\\n",
              "0                                                NaN  ...   \n",
              "1          Череповецкий государственный университет   ...   \n",
              "2   Московский городской педагогический университ...  ...   \n",
              "3                                                NaN  ...   \n",
              "4                                                NaN  ...   \n",
              "\n",
              "                           status experience Desc_Education_5  \\\n",
              "0   Университетский преподаватель    31 год               NaN   \n",
              "1          Школьный преподаватель     8 лет               NaN   \n",
              "2          Школьный преподаватель    11 лет               NaN   \n",
              "3           Частный преподаватель     5 лет               NaN   \n",
              "4           Частный преподаватель    19 лет               NaN   \n",
              "\n",
              "  Desc_Education_6 Education_5 Education_6 Ученая степень 2 Ученое звание 2  \\\n",
              "0              NaN         NaN         NaN              NaN             NaN   \n",
              "1              NaN         NaN         NaN              NaN             NaN   \n",
              "2              NaN         NaN         NaN              NaN             NaN   \n",
              "3              NaN         NaN         NaN              NaN             NaN   \n",
              "4              NaN         NaN         NaN              NaN             NaN   \n",
              "\n",
              "                                          categories mean_price  \n",
              "0  ['Школьники с 5 по 9 класс', 'Школьники с 10 п...  16.666667  \n",
              "1  ['Школьники с 5 по 9 класс', 'Школьники с 10 п...  11.666667  \n",
              "2  ['Школьники с 5 по 9 класс', 'Школьники с 10 п...  23.333333  \n",
              "3  ['Школьники с 1 по 4 класс', 'Школьники с 5 по...   0.116667  \n",
              "4  ['Школьники с 5 по 9 класс', 'Школьники с 10 п...  16.666667  \n",
              "\n",
              "[5 rows x 27 columns]"
            ]
          },
          "execution_count": 69,
          "metadata": {},
          "output_type": "execute_result"
        }
      ],
      "source": [
        "# Посмотрим как выглядят наши таблицы\n",
        "train.head()"
      ]
    },
    {
      "cell_type": "code",
      "execution_count": 70,
      "metadata": {
        "colab": {
          "base_uri": "https://localhost:8080/",
          "height": 671
        },
        "id": "Ln0M5_FCgcBB",
        "outputId": "acd26c1b-6f54-469d-e2e6-68b5ce5fa183"
      },
      "outputs": [
        {
          "data": {
            "text/html": [
              "<div>\n",
              "<style scoped>\n",
              "    .dataframe tbody tr th:only-of-type {\n",
              "        vertical-align: middle;\n",
              "    }\n",
              "\n",
              "    .dataframe tbody tr th {\n",
              "        vertical-align: top;\n",
              "    }\n",
              "\n",
              "    .dataframe thead th {\n",
              "        text-align: right;\n",
              "    }\n",
              "</style>\n",
              "<table border=\"1\" class=\"dataframe\">\n",
              "  <thead>\n",
              "    <tr style=\"text-align: right;\">\n",
              "      <th></th>\n",
              "      <th>предмет</th>\n",
              "      <th>ФИО</th>\n",
              "      <th>tutor_head_tags</th>\n",
              "      <th>tutor_rating</th>\n",
              "      <th>tutor_reviews</th>\n",
              "      <th>description</th>\n",
              "      <th>experience_desc</th>\n",
              "      <th>Education_1</th>\n",
              "      <th>Desc_Education_1</th>\n",
              "      <th>Education_2</th>\n",
              "      <th>...</th>\n",
              "      <th>Ученое звание 1</th>\n",
              "      <th>status</th>\n",
              "      <th>experience</th>\n",
              "      <th>Desc_Education_5</th>\n",
              "      <th>Desc_Education_6</th>\n",
              "      <th>Education_5</th>\n",
              "      <th>Education_6</th>\n",
              "      <th>Ученая степень 2</th>\n",
              "      <th>Ученое звание 2</th>\n",
              "      <th>categories</th>\n",
              "    </tr>\n",
              "  </thead>\n",
              "  <tbody>\n",
              "    <tr>\n",
              "      <th>0</th>\n",
              "      <td>matematika</td>\n",
              "      <td>Репетитор по математике  Тихонова Наталья Бори...</td>\n",
              "      <td>['Школьная программа', 'Подготовка к ЕГЭ', 'Ан...</td>\n",
              "      <td>4</td>\n",
              "      <td>13</td>\n",
              "      <td>Дистанционное убучение по Skype с прим...</td>\n",
              "      <td>NaN</td>\n",
              "      <td>Петрозаводский государственный университет</td>\n",
              "      <td>Год окончания: 1981, Факультет: физико-матема...</td>\n",
              "      <td>NaN</td>\n",
              "      <td>...</td>\n",
              "      <td>NaN</td>\n",
              "      <td>Частный преподаватель</td>\n",
              "      <td>26 лет</td>\n",
              "      <td>NaN</td>\n",
              "      <td>NaN</td>\n",
              "      <td>NaN</td>\n",
              "      <td>NaN</td>\n",
              "      <td>NaN</td>\n",
              "      <td>NaN</td>\n",
              "      <td>['Школьники с 5 по 9 класс', 'Школьники с 10 п...</td>\n",
              "    </tr>\n",
              "    <tr>\n",
              "      <th>1</th>\n",
              "      <td>matematika</td>\n",
              "      <td>Репетитор по математике  Худайбердина Милана Р...</td>\n",
              "      <td>['Школьная программа', 'Математический анализ'...</td>\n",
              "      <td>0</td>\n",
              "      <td>0</td>\n",
              "      <td>Буду рада помочь в освоении дисциплин ...</td>\n",
              "      <td>NaN</td>\n",
              "      <td>Национальный исследовательский университет \"В...</td>\n",
              "      <td>Год окончания: 2022, Факультет: Московский ин...</td>\n",
              "      <td>NaN</td>\n",
              "      <td>...</td>\n",
              "      <td>NaN</td>\n",
              "      <td>Студент</td>\n",
              "      <td>4 года</td>\n",
              "      <td>NaN</td>\n",
              "      <td>NaN</td>\n",
              "      <td>NaN</td>\n",
              "      <td>NaN</td>\n",
              "      <td>NaN</td>\n",
              "      <td>NaN</td>\n",
              "      <td>['Школьники с 5 по 9 класс', 'Школьники с 10 п...</td>\n",
              "    </tr>\n",
              "    <tr>\n",
              "      <th>2</th>\n",
              "      <td>matematika</td>\n",
              "      <td>Репетитор по математике  Епихина Елена Вячесла...</td>\n",
              "      <td>['Школьная программа', 'Подготовка к ЕГЭ', 'По...</td>\n",
              "      <td>0</td>\n",
              "      <td>0</td>\n",
              "      <td>Преподаватель высшей квалификационный ...</td>\n",
              "      <td>Репетитор не предоставил информаци...</td>\n",
              "      <td>Тамбовский ордена \"Знак Почёта\" государственн...</td>\n",
              "      <td>Год окончания: 1987, Факультет: Математика, С...</td>\n",
              "      <td>NaN</td>\n",
              "      <td>...</td>\n",
              "      <td>NaN</td>\n",
              "      <td>Университетский преподаватель, Школьный препо...</td>\n",
              "      <td>36 лет</td>\n",
              "      <td>NaN</td>\n",
              "      <td>NaN</td>\n",
              "      <td>NaN</td>\n",
              "      <td>NaN</td>\n",
              "      <td>NaN</td>\n",
              "      <td>NaN</td>\n",
              "      <td>['Школьники с 10 по 11 класс, студенты колледж...</td>\n",
              "    </tr>\n",
              "    <tr>\n",
              "      <th>3</th>\n",
              "      <td>matematika</td>\n",
              "      <td>Репетитор по математике  Касаткин Денис Евгень...</td>\n",
              "      <td>['Школьная программа', 'Подготовка к ОГЭ', 'Hi...</td>\n",
              "      <td>4</td>\n",
              "      <td>11</td>\n",
              "      <td>Объясняю ровно столько, сколько надо. ...</td>\n",
              "      <td>NaN</td>\n",
              "      <td>Тюменский государственный университет</td>\n",
              "      <td>Год окончания: 2022, Факультет: факультет меж...</td>\n",
              "      <td>NaN</td>\n",
              "      <td>...</td>\n",
              "      <td>NaN</td>\n",
              "      <td>Студент</td>\n",
              "      <td>3 года</td>\n",
              "      <td>NaN</td>\n",
              "      <td>NaN</td>\n",
              "      <td>NaN</td>\n",
              "      <td>NaN</td>\n",
              "      <td>NaN</td>\n",
              "      <td>NaN</td>\n",
              "      <td>['Школьники с 1 по 4 класс', 'Школьники с 5 по...</td>\n",
              "    </tr>\n",
              "    <tr>\n",
              "      <th>4</th>\n",
              "      <td>informatika</td>\n",
              "      <td>Репетитор по информатике Логвинов Артём Алекса...</td>\n",
              "      <td>['Подготовка к ЕГЭ']</td>\n",
              "      <td>0</td>\n",
              "      <td>0</td>\n",
              "      <td>Подготовлю к ЕГЭ, уроки через любую уд...</td>\n",
              "      <td>Репетитор не предоставил информаци...</td>\n",
              "      <td>РТУ МИРЭА</td>\n",
              "      <td>Год окончания: 2026, Факультет: Программная и...</td>\n",
              "      <td>NaN</td>\n",
              "      <td>...</td>\n",
              "      <td>NaN</td>\n",
              "      <td>Студент</td>\n",
              "      <td>1 год</td>\n",
              "      <td>NaN</td>\n",
              "      <td>NaN</td>\n",
              "      <td>NaN</td>\n",
              "      <td>NaN</td>\n",
              "      <td>NaN</td>\n",
              "      <td>NaN</td>\n",
              "      <td>['Школьники с 10 по 11 класс, студенты колледж...</td>\n",
              "    </tr>\n",
              "  </tbody>\n",
              "</table>\n",
              "<p>5 rows × 26 columns</p>\n",
              "</div>"
            ],
            "text/plain": [
              "       предмет                                                ФИО  \\\n",
              "0   matematika  Репетитор по математике  Тихонова Наталья Бори...   \n",
              "1   matematika  Репетитор по математике  Худайбердина Милана Р...   \n",
              "2   matematika  Репетитор по математике  Епихина Елена Вячесла...   \n",
              "3   matematika  Репетитор по математике  Касаткин Денис Евгень...   \n",
              "4  informatika  Репетитор по информатике Логвинов Артём Алекса...   \n",
              "\n",
              "                                     tutor_head_tags  tutor_rating  \\\n",
              "0  ['Школьная программа', 'Подготовка к ЕГЭ', 'Ан...             4   \n",
              "1  ['Школьная программа', 'Математический анализ'...             0   \n",
              "2  ['Школьная программа', 'Подготовка к ЕГЭ', 'По...             0   \n",
              "3  ['Школьная программа', 'Подготовка к ОГЭ', 'Hi...             4   \n",
              "4                               ['Подготовка к ЕГЭ']             0   \n",
              "\n",
              "   tutor_reviews                                        description  \\\n",
              "0             13          Дистанционное убучение по Skype с прим...   \n",
              "1              0          Буду рада помочь в освоении дисциплин ...   \n",
              "2              0          Преподаватель высшей квалификационный ...   \n",
              "3             11          Объясняю ровно столько, сколько надо. ...   \n",
              "4              0          Подготовлю к ЕГЭ, уроки через любую уд...   \n",
              "\n",
              "                                     experience_desc  \\\n",
              "0                                                NaN   \n",
              "1                                                NaN   \n",
              "2              Репетитор не предоставил информаци...   \n",
              "3                                                NaN   \n",
              "4              Репетитор не предоставил информаци...   \n",
              "\n",
              "                                         Education_1  \\\n",
              "0        Петрозаводский государственный университет    \n",
              "1   Национальный исследовательский университет \"В...   \n",
              "2   Тамбовский ордена \"Знак Почёта\" государственн...   \n",
              "3             Тюменский государственный университет    \n",
              "4                                         РТУ МИРЭА    \n",
              "\n",
              "                                    Desc_Education_1 Education_2  ...  \\\n",
              "0   Год окончания: 1981, Факультет: физико-матема...         NaN  ...   \n",
              "1   Год окончания: 2022, Факультет: Московский ин...         NaN  ...   \n",
              "2   Год окончания: 1987, Факультет: Математика, С...         NaN  ...   \n",
              "3   Год окончания: 2022, Факультет: факультет меж...         NaN  ...   \n",
              "4   Год окончания: 2026, Факультет: Программная и...         NaN  ...   \n",
              "\n",
              "  Ученое звание 1                                             status  \\\n",
              "0             NaN                              Частный преподаватель   \n",
              "1             NaN                                            Студент   \n",
              "2             NaN   Университетский преподаватель, Школьный препо...   \n",
              "3             NaN                                            Студент   \n",
              "4             NaN                                            Студент   \n",
              "\n",
              "  experience Desc_Education_5 Desc_Education_6 Education_5 Education_6  \\\n",
              "0    26 лет               NaN              NaN         NaN         NaN   \n",
              "1    4 года               NaN              NaN         NaN         NaN   \n",
              "2    36 лет               NaN              NaN         NaN         NaN   \n",
              "3    3 года               NaN              NaN         NaN         NaN   \n",
              "4     1 год               NaN              NaN         NaN         NaN   \n",
              "\n",
              "  Ученая степень 2 Ученое звание 2  \\\n",
              "0              NaN             NaN   \n",
              "1              NaN             NaN   \n",
              "2              NaN             NaN   \n",
              "3              NaN             NaN   \n",
              "4              NaN             NaN   \n",
              "\n",
              "                                          categories  \n",
              "0  ['Школьники с 5 по 9 класс', 'Школьники с 10 п...  \n",
              "1  ['Школьники с 5 по 9 класс', 'Школьники с 10 п...  \n",
              "2  ['Школьники с 10 по 11 класс, студенты колледж...  \n",
              "3  ['Школьники с 1 по 4 класс', 'Школьники с 5 по...  \n",
              "4  ['Школьники с 10 по 11 класс, студенты колледж...  \n",
              "\n",
              "[5 rows x 26 columns]"
            ]
          },
          "execution_count": 70,
          "metadata": {},
          "output_type": "execute_result"
        }
      ],
      "source": [
        "test.head()"
      ]
    },
    {
      "cell_type": "markdown",
      "metadata": {
        "id": "VzU5iNt2gcBC"
      },
      "source": [
        "# Обработаем пропуски, построим графики и причешим данные\n",
        "\n",
        "\n"
      ]
    },
    {
      "cell_type": "code",
      "execution_count": 71,
      "metadata": {
        "id": "UekYYMw9gcBD"
      },
      "outputs": [],
      "source": [
        "# удалим стобцы, в которых заполнено меньше 5% значений(скорее всего они будут лишь шумом, если что добавим их потом) в train dataset\n",
        "excess_columns = train.loc[:, train.isna().mean() > 0.95].columns\n",
        "train.drop(columns=excess_columns, inplace=True)\n",
        "test.drop(columns=excess_columns, inplace=True)"
      ]
    },
    {
      "cell_type": "code",
      "execution_count": 72,
      "metadata": {
        "colab": {
          "base_uri": "https://localhost:8080/",
          "height": 430
        },
        "id": "yI8V9eqLgcBG",
        "outputId": "29a38f85-59f3-4266-ab70-9b1c9ef0fd8b"
      },
      "outputs": [],
      "source": [
        "# Построим график с усами и заполним медианными значениями колонку tutor_rating\n",
        "train.boxplot(\"tutor_rating\")\n",
        "train.tutor_rating = train.tutor_rating.fillna(train.tutor_rating.median())\n",
        "test.tutor_rating = test.tutor_rating.fillna(test.tutor_rating.median())"
      ]
    },
    {
      "cell_type": "code",
      "execution_count": 73,
      "metadata": {
        "colab": {
          "base_uri": "https://localhost:8080/",
          "height": 430
        },
        "id": "ZpFFYoXYgcBH",
        "outputId": "8cdae131-3711-4c25-804a-1a1d24ae5a99"
      },
      "outputs": [],
      "source": [
        "# таким же образом сделаю и для других числовых колонок\n",
        "train.boxplot(\"tutor_reviews\")\n",
        "train.tutor_reviews = train.tutor_reviews.fillna(train.tutor_reviews.median())\n",
        "test.tutor_reviews = test.tutor_reviews.fillna(test.tutor_reviews.median())"
      ]
    },
    {
      "cell_type": "code",
      "execution_count": 74,
      "metadata": {
        "colab": {
          "base_uri": "https://localhost:8080/",
          "height": 430
        },
        "id": "01WcREw5gcBJ",
        "outputId": "0a852bdb-cc57-4d62-d475-87f9593f93c9"
      },
      "outputs": [],
      "source": [
        "train.experience = train.experience.fillna('0 лет опыта')\n",
        "train.experience = train.experience.apply(lambda x: int(x.split()[0])) # преобразуем experience в числовой формат для удобства\n",
        "# обработаем выбросы через 1,5 * IQR\n",
        "q1 = train['experience'].quantile(0.25)\n",
        "q3 = train['experience'].quantile(0.75)\n",
        "iqr = q3 - q1\n",
        "train = train[train['experience'].between(q1 - 1.5 * iqr, q3 + 1.5 * iqr)]\n",
        "train.boxplot('experience')\n",
        "\n",
        "# аналогично для теста, но без удаления выбросов)\n",
        "test.experience = test.experience.fillna('0 лет опыта')\n",
        "test.experience = test.experience.apply(lambda x: int(x.split()[0]))"
      ]
    },
    {
      "cell_type": "code",
      "execution_count": 75,
      "metadata": {
        "colab": {
          "base_uri": "https://localhost:8080/",
          "height": 430
        },
        "id": "BJSKGSKRgcBJ",
        "outputId": "f479707e-84aa-4f93-856d-1fc5dde7d3f1"
      },
      "outputs": [],
      "source": [
        "# рассмотрим таргет mean_price признак и уберем (при наличии) выбросы из них методом 1.5 * IQR\n",
        "train.boxplot(\"mean_price\") # видим, что на графике есть выбросы, удалим их\n",
        "q1 = train['mean_price'].quantile(0.25)\n",
        "q3 = train['mean_price'].quantile(0.75)\n",
        "iqr = q3 - q1\n",
        "train = train[train['mean_price'].between(q1 - 1.5 * iqr, q3 + 1.5 * iqr)]\n",
        "# из соображений логики, возможно данных нет тк оценок  нет и можно заполнить 0, но пока так"
      ]
    },
    {
      "cell_type": "code",
      "execution_count": 76,
      "metadata": {
        "colab": {
          "base_uri": "https://localhost:8080/"
        },
        "id": "G8yNQ7oKZBUQ",
        "outputId": "4980c343-c2c9-4497-9357-b81dde68c478"
      },
      "outputs": [
        {
          "data": {
            "text/plain": [
              "предмет                0\n",
              "ФИО                    0\n",
              "tutor_head_tags        0\n",
              "tutor_rating           0\n",
              "tutor_reviews          0\n",
              "description            1\n",
              "experience_desc     2099\n",
              "Education_1            0\n",
              "Desc_Education_1      72\n",
              "Education_2         3310\n",
              "Desc_Education_2    3313\n",
              "status                12\n",
              "experience             0\n",
              "categories             0\n",
              "mean_price             0\n",
              "dtype: int64"
            ]
          },
          "execution_count": 76,
          "metadata": {},
          "output_type": "execute_result"
        }
      ],
      "source": [
        "train.isna().sum()"
      ]
    },
    {
      "cell_type": "code",
      "execution_count": 77,
      "metadata": {
        "id": "TJy8nxSxZKvC"
      },
      "outputs": [],
      "source": [
        "# Объединим все текстовые признаки в один, чтобы потом посчитать по ним статистики, разделим их пробелом и заполним словом \"неизвестно\" пропущенные значения\n",
        "text_cols = ['description', 'experience_desc', 'Education_1', 'Desc_Education_1', 'Education_2', 'Desc_Education_2', 'status']\n",
        "train[text_cols] = train[text_cols].fillna('неизвестно')\n",
        "test[text_cols] = test[text_cols].fillna('неизвестно')\n",
        "train['description'] += ' ' + train['experience_desc'] + ' ' + train['Education_1'] + ' ' + train['Desc_Education_1'] + ' ' + train['Education_2'] + ' ' + train['Desc_Education_2'] + ' ' + train['status']\n",
        "test['description'] += ' ' + test['experience_desc'] + ' ' + test['Education_1'] + ' ' + test['Desc_Education_1'] + ' ' + test['Education_2'] + ' ' + test['Desc_Education_2'] + ' ' + test['status']"
      ]
    },
    {
      "cell_type": "code",
      "execution_count": 48,
      "metadata": {
        "colab": {
          "base_uri": "https://localhost:8080/"
        },
        "id": "guYDxCGvacfP",
        "outputId": "0a15b097-3a09-4c50-8ab2-a0f4e9481a93"
      },
      "outputs": [
        {
          "data": {
            "text/plain": [
              "предмет             0\n",
              "ФИО                 0\n",
              "tutor_head_tags     0\n",
              "tutor_rating        0\n",
              "tutor_reviews       0\n",
              "description         0\n",
              "experience_desc     0\n",
              "Education_1         0\n",
              "Desc_Education_1    0\n",
              "Education_2         0\n",
              "Desc_Education_2    0\n",
              "status              0\n",
              "experience          0\n",
              "categories          0\n",
              "mean_price          0\n",
              "dtype: int64"
            ]
          },
          "execution_count": 48,
          "metadata": {},
          "output_type": "execute_result"
        }
      ],
      "source": [
        "train.isna().sum()"
      ]
    },
    {
      "cell_type": "markdown",
      "metadata": {
        "id": "AkqBS_dtgcBM"
      },
      "source": [
        "# Шаг 2: Feature engineering"
      ]
    },
    {
      "cell_type": "code",
      "execution_count": 78,
      "metadata": {
        "id": "bY662H2MgcBN"
      },
      "outputs": [],
      "source": [
        "# вытащим несколько фичей из колонки tutor_head_tags\n",
        "train.tutor_head_tags = train.tutor_head_tags.apply(lambda x: eval(x))\n",
        "train['school'] = train.tutor_head_tags.apply(lambda x: 1 if 'Школьная программа' in x else 0)\n",
        "train['ege'] = train.tutor_head_tags.apply(lambda x: 1 if 'Подготовка к ЕГЭ' in x else 0)\n",
        "train['oge'] = train.tutor_head_tags.apply(lambda x: 1 if 'Подготовка к ОГЭ' in x else 0)\n",
        "train['geom'] = train.tutor_head_tags.apply(lambda x: 1 if ' Аналитическая геометрия' in x else 0)\n",
        "train['matan'] = train.tutor_head_tags.apply(lambda x: 1 if 'Математический анализ' in x else 0)\n",
        "train['linal'] = train.tutor_head_tags.apply(lambda x: 1 if 'Линейная алгебра' in x else 0)\n",
        "train['teorver'] = train.tutor_head_tags.apply(lambda x: 1 if 'Теория вероятности и мат. статистика' in x else 0)\n",
        "train['number_tags'] = train.tutor_head_tags.apply(lambda x: len(x))\n",
        "\n",
        "# аналогично для теста\n",
        "test.tutor_head_tags = test.tutor_head_tags.apply(lambda x: eval(x))\n",
        "test['school'] = test.tutor_head_tags.apply(lambda x: 1 if 'Школьная программа' in x else 0)\n",
        "test['ege'] = test.tutor_head_tags.apply(lambda x: 1 if 'Подготовка к ЕГЭ' in x else 0)\n",
        "test['oge'] = test.tutor_head_tags.apply(lambda x: 1 if 'Подготовка к ОГЭ' in x else 0)\n",
        "test['geom'] = test.tutor_head_tags.apply(lambda x: 1 if ' Аналитическая геометрия' in x else 0)\n",
        "test['matan'] = test.tutor_head_tags.apply(lambda x: 1 if 'Математический анализ' in x else 0)\n",
        "test['linal'] = test.tutor_head_tags.apply(lambda x: 1 if 'Линейная алгебра' in x else 0)\n",
        "test['teorver'] = test.tutor_head_tags.apply(lambda x: 1 if 'Теория вероятности и мат. статистика' in x else 0)\n",
        "test['number_tags'] = test.tutor_head_tags.apply(lambda x: len(x))"
      ]
    },
    {
      "cell_type": "code",
      "execution_count": 79,
      "metadata": {
        "colab": {
          "base_uri": "https://localhost:8080/",
          "height": 637
        },
        "id": "-QVaN4mEgcBP",
        "outputId": "133af661-5754-4222-c50c-a0b4b6f3ba8f"
      },
      "outputs": [
        {
          "data": {
            "text/html": [
              "<div>\n",
              "<style scoped>\n",
              "    .dataframe tbody tr th:only-of-type {\n",
              "        vertical-align: middle;\n",
              "    }\n",
              "\n",
              "    .dataframe tbody tr th {\n",
              "        vertical-align: top;\n",
              "    }\n",
              "\n",
              "    .dataframe thead th {\n",
              "        text-align: right;\n",
              "    }\n",
              "</style>\n",
              "<table border=\"1\" class=\"dataframe\">\n",
              "  <thead>\n",
              "    <tr style=\"text-align: right;\">\n",
              "      <th></th>\n",
              "      <th>предмет</th>\n",
              "      <th>ФИО</th>\n",
              "      <th>tutor_head_tags</th>\n",
              "      <th>tutor_rating</th>\n",
              "      <th>tutor_reviews</th>\n",
              "      <th>description</th>\n",
              "      <th>experience_desc</th>\n",
              "      <th>Education_1</th>\n",
              "      <th>Desc_Education_1</th>\n",
              "      <th>Education_2</th>\n",
              "      <th>...</th>\n",
              "      <th>categories</th>\n",
              "      <th>mean_price</th>\n",
              "      <th>school</th>\n",
              "      <th>ege</th>\n",
              "      <th>oge</th>\n",
              "      <th>geom</th>\n",
              "      <th>matan</th>\n",
              "      <th>linal</th>\n",
              "      <th>teorver</th>\n",
              "      <th>number_tags</th>\n",
              "    </tr>\n",
              "  </thead>\n",
              "  <tbody>\n",
              "    <tr>\n",
              "      <th>1</th>\n",
              "      <td>matematika</td>\n",
              "      <td>Репетитор по математике  Назарова Анастасия Ан...</td>\n",
              "      <td>[Школьная программа, Подготовка к ЕГЭ, Подгото...</td>\n",
              "      <td>4.0</td>\n",
              "      <td>7</td>\n",
              "      <td>Репетитор не предоставил о себе дополн...</td>\n",
              "      <td>неизвестно</td>\n",
              "      <td>Вологодский государственный педагогический ун...</td>\n",
              "      <td>Год окончания: 2017, Факультет: факультет при...</td>\n",
              "      <td>Череповецкий государственный университет</td>\n",
              "      <td>...</td>\n",
              "      <td>['Школьники с 5 по 9 класс', 'Школьники с 10 п...</td>\n",
              "      <td>11.666667</td>\n",
              "      <td>1</td>\n",
              "      <td>1</td>\n",
              "      <td>1</td>\n",
              "      <td>0</td>\n",
              "      <td>0</td>\n",
              "      <td>0</td>\n",
              "      <td>0</td>\n",
              "      <td>3</td>\n",
              "    </tr>\n",
              "    <tr>\n",
              "      <th>2</th>\n",
              "      <td>informatika</td>\n",
              "      <td>Репетитор по информатике Мотроненко Инна Конст...</td>\n",
              "      <td>[Школьная программа, Подготовка к ЕГЭ, Подгото...</td>\n",
              "      <td>0.0</td>\n",
              "      <td>0</td>\n",
              "      <td>Выезд за город: Балашиха-1, Балашиха-2...</td>\n",
              "      <td>Московская Школа (учитель ...</td>\n",
              "      <td>Московский городской педагогический университет</td>\n",
              "      <td>Год окончания: 2008, Факультет: Математически...</td>\n",
              "      <td>Московский городской педагогический университ...</td>\n",
              "      <td>...</td>\n",
              "      <td>['Школьники с 5 по 9 класс', 'Школьники с 10 п...</td>\n",
              "      <td>23.333333</td>\n",
              "      <td>1</td>\n",
              "      <td>1</td>\n",
              "      <td>1</td>\n",
              "      <td>0</td>\n",
              "      <td>0</td>\n",
              "      <td>0</td>\n",
              "      <td>0</td>\n",
              "      <td>3</td>\n",
              "    </tr>\n",
              "    <tr>\n",
              "      <th>3</th>\n",
              "      <td>matematika</td>\n",
              "      <td>Репетитор по математике  Логинова Елизавета Ал...</td>\n",
              "      <td>[Школьная программа, Математический анализ, По...</td>\n",
              "      <td>4.0</td>\n",
              "      <td>19</td>\n",
              "      <td>Здравствуйте! Меня зовут Елизавета, о...</td>\n",
              "      <td>неизвестно</td>\n",
              "      <td>Санкт-Петербургский государственный университет</td>\n",
              "      <td>Год окончания: 2021, Факультет: физический фа...</td>\n",
              "      <td>неизвестно</td>\n",
              "      <td>...</td>\n",
              "      <td>['Школьники с 1 по 4 класс', 'Школьники с 5 по...</td>\n",
              "      <td>0.116667</td>\n",
              "      <td>1</td>\n",
              "      <td>1</td>\n",
              "      <td>1</td>\n",
              "      <td>0</td>\n",
              "      <td>1</td>\n",
              "      <td>1</td>\n",
              "      <td>1</td>\n",
              "      <td>8</td>\n",
              "    </tr>\n",
              "    <tr>\n",
              "      <th>4</th>\n",
              "      <td>matematika</td>\n",
              "      <td>Репетитор по математике  Харланов Олег Викторо...</td>\n",
              "      <td>[Школьная программа, Подготовка к ЕГЭ, Подгото...</td>\n",
              "      <td>0.0</td>\n",
              "      <td>0</td>\n",
              "      <td>Целеустремленный, ориентирован на резу...</td>\n",
              "      <td>преподавателем           ...</td>\n",
              "      <td>Приазовский государственный технический униве...</td>\n",
              "      <td>Год окончания: 2005, Факультет: Энергетически...</td>\n",
              "      <td>неизвестно</td>\n",
              "      <td>...</td>\n",
              "      <td>['Школьники с 5 по 9 класс', 'Школьники с 10 п...</td>\n",
              "      <td>16.666667</td>\n",
              "      <td>1</td>\n",
              "      <td>1</td>\n",
              "      <td>1</td>\n",
              "      <td>0</td>\n",
              "      <td>0</td>\n",
              "      <td>0</td>\n",
              "      <td>0</td>\n",
              "      <td>3</td>\n",
              "    </tr>\n",
              "    <tr>\n",
              "      <th>5</th>\n",
              "      <td>matematika</td>\n",
              "      <td>Репетитор по математике  Позябин Дмитрий Евген...</td>\n",
              "      <td>[Школьная программа, Подготовка к ЕГЭ, Подгото...</td>\n",
              "      <td>0.0</td>\n",
              "      <td>0</td>\n",
              "      <td>Репетитор не предоставил о себе дополн...</td>\n",
              "      <td>неизвестно</td>\n",
              "      <td>Московский государственный технический универ...</td>\n",
              "      <td>Год окончания: 2019, Факультет: факультет эне...</td>\n",
              "      <td>неизвестно</td>\n",
              "      <td>...</td>\n",
              "      <td>['Школьники с 1 по 4 класс', 'Школьники с 5 по...</td>\n",
              "      <td>16.666667</td>\n",
              "      <td>1</td>\n",
              "      <td>1</td>\n",
              "      <td>1</td>\n",
              "      <td>0</td>\n",
              "      <td>0</td>\n",
              "      <td>0</td>\n",
              "      <td>0</td>\n",
              "      <td>3</td>\n",
              "    </tr>\n",
              "  </tbody>\n",
              "</table>\n",
              "<p>5 rows × 23 columns</p>\n",
              "</div>"
            ],
            "text/plain": [
              "       предмет                                                ФИО  \\\n",
              "1   matematika  Репетитор по математике  Назарова Анастасия Ан...   \n",
              "2  informatika  Репетитор по информатике Мотроненко Инна Конст...   \n",
              "3   matematika  Репетитор по математике  Логинова Елизавета Ал...   \n",
              "4   matematika  Репетитор по математике  Харланов Олег Викторо...   \n",
              "5   matematika  Репетитор по математике  Позябин Дмитрий Евген...   \n",
              "\n",
              "                                     tutor_head_tags  tutor_rating  \\\n",
              "1  [Школьная программа, Подготовка к ЕГЭ, Подгото...           4.0   \n",
              "2  [Школьная программа, Подготовка к ЕГЭ, Подгото...           0.0   \n",
              "3  [Школьная программа, Математический анализ, По...           4.0   \n",
              "4  [Школьная программа, Подготовка к ЕГЭ, Подгото...           0.0   \n",
              "5  [Школьная программа, Подготовка к ЕГЭ, Подгото...           0.0   \n",
              "\n",
              "   tutor_reviews                                        description  \\\n",
              "1              7          Репетитор не предоставил о себе дополн...   \n",
              "2              0          Выезд за город: Балашиха-1, Балашиха-2...   \n",
              "3             19           Здравствуйте! Меня зовут Елизавета, о...   \n",
              "4              0          Целеустремленный, ориентирован на резу...   \n",
              "5              0          Репетитор не предоставил о себе дополн...   \n",
              "\n",
              "                                     experience_desc  \\\n",
              "1                                         неизвестно   \n",
              "2                      Московская Школа (учитель ...   \n",
              "3                                         неизвестно   \n",
              "4                       преподавателем           ...   \n",
              "5                                         неизвестно   \n",
              "\n",
              "                                         Education_1  \\\n",
              "1   Вологодский государственный педагогический ун...   \n",
              "2   Московский городской педагогический университет    \n",
              "3   Санкт-Петербургский государственный университет    \n",
              "4   Приазовский государственный технический униве...   \n",
              "5   Московский государственный технический универ...   \n",
              "\n",
              "                                    Desc_Education_1  \\\n",
              "1   Год окончания: 2017, Факультет: факультет при...   \n",
              "2   Год окончания: 2008, Факультет: Математически...   \n",
              "3   Год окончания: 2021, Факультет: физический фа...   \n",
              "4   Год окончания: 2005, Факультет: Энергетически...   \n",
              "5   Год окончания: 2019, Факультет: факультет эне...   \n",
              "\n",
              "                                         Education_2  ...  \\\n",
              "1          Череповецкий государственный университет   ...   \n",
              "2   Московский городской педагогический университ...  ...   \n",
              "3                                         неизвестно  ...   \n",
              "4                                         неизвестно  ...   \n",
              "5                                         неизвестно  ...   \n",
              "\n",
              "                                          categories mean_price  school ege  \\\n",
              "1  ['Школьники с 5 по 9 класс', 'Школьники с 10 п...  11.666667       1   1   \n",
              "2  ['Школьники с 5 по 9 класс', 'Школьники с 10 п...  23.333333       1   1   \n",
              "3  ['Школьники с 1 по 4 класс', 'Школьники с 5 по...   0.116667       1   1   \n",
              "4  ['Школьники с 5 по 9 класс', 'Школьники с 10 п...  16.666667       1   1   \n",
              "5  ['Школьники с 1 по 4 класс', 'Школьники с 5 по...  16.666667       1   1   \n",
              "\n",
              "   oge  geom  matan  linal  teorver  number_tags  \n",
              "1    1     0      0      0        0            3  \n",
              "2    1     0      0      0        0            3  \n",
              "3    1     0      1      1        1            8  \n",
              "4    1     0      0      0        0            3  \n",
              "5    1     0      0      0        0            3  \n",
              "\n",
              "[5 rows x 23 columns]"
            ]
          },
          "execution_count": 79,
          "metadata": {},
          "output_type": "execute_result"
        }
      ],
      "source": [
        "train.head()"
      ]
    },
    {
      "cell_type": "code",
      "execution_count": 80,
      "metadata": {
        "id": "2ZU78VB-cgnc"
      },
      "outputs": [],
      "source": [
        "# Обработаем текст с помощью TF-IDF а затем сожмем с пмоощью SVD\n",
        "tf_idf = TfidfVectorizer()\n",
        "svd = TruncatedSVD(n_components=24)\n",
        "embs = tf_idf.fit_transform(train['description'])\n",
        "svd_embs = svd.fit_transform(embs)\n",
        "train[[f'e_{i}' for i in range(svd_embs.shape[1])]] = svd_embs\n",
        "\n",
        "embs = tf_idf.transform(test['description'])\n",
        "svd_embs = svd.transform(embs)\n",
        "test[[f'e_{i}' for i in range(svd_embs.shape[1])]] = svd_embs"
      ]
    },
    {
      "cell_type": "code",
      "execution_count": 81,
      "metadata": {
        "id": "6FZDhxW1gcBR"
      },
      "outputs": [],
      "source": [
        "numerics = ['int16', 'int32', 'int64', 'float16', 'float32', 'float64']\n",
        "numeric_columns = train.select_dtypes(include=numerics).columns\n",
        "cat_features = train.select_dtypes(include='object').columns\n",
        "# sns.pairplot(train[numeric_columns])"
      ]
    },
    {
      "cell_type": "markdown",
      "metadata": {
        "id": "VFft-gaLgcBS"
      },
      "source": [
        "# Проверка статистических гипотез"
      ]
    },
    {
      "cell_type": "code",
      "execution_count": 82,
      "metadata": {
        "id": "vnWTZoOtgcBT"
      },
      "outputs": [],
      "source": [
        "# Гиптотеза 1:\n",
        "# Нулевая гипотеза: mean_price распределен нормально, конкурирущая гипотеза - mean_price распределен нормально, alpha=0.01"
      ]
    },
    {
      "cell_type": "code",
      "execution_count": 83,
      "metadata": {
        "colab": {
          "base_uri": "https://localhost:8080/"
        },
        "id": "rKkb-lppgcBT",
        "outputId": "7a8fe29f-dc31-48a7-d836-385aca24e2b2"
      },
      "outputs": [
        {
          "data": {
            "text/plain": [
              "ShapiroResult(statistic=0.9707310199737549, pvalue=8.855638699551365e-28)"
            ]
          },
          "execution_count": 83,
          "metadata": {},
          "output_type": "execute_result"
        }
      ],
      "source": [
        "shapiro(train['mean_price'])"
      ]
    },
    {
      "cell_type": "code",
      "execution_count": 84,
      "metadata": {
        "id": "74l4moEtgcBT"
      },
      "outputs": [],
      "source": [
        "# p_value < alpha, поэтому нулевая гипотеза неверна"
      ]
    },
    {
      "cell_type": "code",
      "execution_count": 85,
      "metadata": {
        "id": "q8I0pUZegcBT"
      },
      "outputs": [],
      "source": [
        "# Гиптотеза 2:\n",
        "# Нулевая гипотеза: tutor_rating распределен нормально, конкурирущая гипотеза - tutor_rating распределен нормально, alpha=0.01"
      ]
    },
    {
      "cell_type": "code",
      "execution_count": 86,
      "metadata": {
        "colab": {
          "base_uri": "https://localhost:8080/"
        },
        "id": "IYR9fKjngcBU",
        "outputId": "635442f4-c51e-4ee5-a630-5475973f5ac1"
      },
      "outputs": [
        {
          "data": {
            "text/plain": [
              "ShapiroResult(statistic=0.635645866394043, pvalue=0.0)"
            ]
          },
          "execution_count": 86,
          "metadata": {},
          "output_type": "execute_result"
        }
      ],
      "source": [
        "shapiro(train['tutor_rating'])"
      ]
    },
    {
      "cell_type": "code",
      "execution_count": 87,
      "metadata": {
        "id": "I98je7LFgcBU"
      },
      "outputs": [],
      "source": [
        "# p_value < alpha, поэтому нулевая гипотеза неверна"
      ]
    },
    {
      "cell_type": "code",
      "execution_count": 88,
      "metadata": {
        "id": "jVC2as9igcBU"
      },
      "outputs": [],
      "source": [
        "# Гиптотеза 3:\n",
        "# Нулевая гипотеза: e_0 распределен нормально, конкурирущая гипотеза - experience распределен нормально, alpha=0.01"
      ]
    },
    {
      "cell_type": "code",
      "execution_count": 89,
      "metadata": {
        "colab": {
          "base_uri": "https://localhost:8080/"
        },
        "id": "UTubl8Z5gcBV",
        "outputId": "833e5938-1d1b-46db-bf1d-35964f28127a"
      },
      "outputs": [
        {
          "data": {
            "text/plain": [
              "ShapiroResult(statistic=0.8262951374053955, pvalue=0.0)"
            ]
          },
          "execution_count": 89,
          "metadata": {},
          "output_type": "execute_result"
        }
      ],
      "source": [
        "shapiro(train['e_0'])"
      ]
    },
    {
      "cell_type": "code",
      "execution_count": 90,
      "metadata": {
        "id": "7ornqarXgcBV"
      },
      "outputs": [],
      "source": [
        "# p_value < alpha, поэтому нулевая гипотеза неверна"
      ]
    },
    {
      "cell_type": "code",
      "execution_count": 91,
      "metadata": {
        "id": "n2gJjEo-gcBV"
      },
      "outputs": [],
      "source": [
        "# Гиптотеза 4:\n",
        "# Нулевая гипотеза: e_1 распределен нормально, конкурирущая гипотеза - e_0 распределен нормально, alpha=0.e_1"
      ]
    },
    {
      "cell_type": "code",
      "execution_count": 92,
      "metadata": {
        "colab": {
          "base_uri": "https://localhost:8080/"
        },
        "id": "sqwMesIxgcBV",
        "outputId": "d28adb70-79c2-45e6-e8af-43847f50d7a1"
      },
      "outputs": [
        {
          "data": {
            "text/plain": [
              "ShapiroResult(statistic=0.9267979264259338, pvalue=2.2934771705911416e-40)"
            ]
          },
          "execution_count": 92,
          "metadata": {},
          "output_type": "execute_result"
        }
      ],
      "source": [
        "shapiro(train['e_1'])"
      ]
    },
    {
      "cell_type": "code",
      "execution_count": 93,
      "metadata": {
        "id": "zwNtBLE7gcBW"
      },
      "outputs": [],
      "source": [
        "# p_value < alpha, поэтому нулевая гипотеза неверна"
      ]
    },
    {
      "cell_type": "code",
      "execution_count": 94,
      "metadata": {
        "id": "c-xflfo7dv7n"
      },
      "outputs": [],
      "source": [
        "# сохраним train и test для тренировке моделей\n",
        "\n",
        "train.to_csv(\"final_train.csv\", index=None)\n",
        "test.to_csv(\"final_test.csv\", index=None)"
      ]
    },
    {
      "cell_type": "code",
      "execution_count": 95,
      "metadata": {
        "colab": {
          "base_uri": "https://localhost:8080/"
        },
        "id": "6qN0cp5AL5Xn",
        "outputId": "b6b4a64d-e012-4433-c090-f6950d32defe"
      },
      "outputs": [
        {
          "data": {
            "text/plain": [
              "Index(['предмет', 'ФИО', 'tutor_head_tags', 'tutor_rating', 'tutor_reviews',\n",
              "       'description', 'experience_desc', 'Education_1', 'Desc_Education_1',\n",
              "       'Education_2', 'Desc_Education_2', 'status', 'experience', 'categories',\n",
              "       'mean_price', 'school', 'ege', 'oge', 'geom', 'matan', 'linal',\n",
              "       'teorver', 'number_tags', 'e_0', 'e_1', 'e_2', 'e_3', 'e_4', 'e_5',\n",
              "       'e_6', 'e_7', 'e_8', 'e_9', 'e_10', 'e_11', 'e_12', 'e_13', 'e_14',\n",
              "       'e_15', 'e_16', 'e_17', 'e_18', 'e_19', 'e_20', 'e_21', 'e_22', 'e_23'],\n",
              "      dtype='object')"
            ]
          },
          "execution_count": 95,
          "metadata": {},
          "output_type": "execute_result"
        }
      ],
      "source": [
        "train.columns"
      ]
    },
    {
      "cell_type": "code",
      "execution_count": null,
      "metadata": {
        "id": "QjcM8lLAN-Ak"
      },
      "outputs": [],
      "source": []
    },
    {
      "cell_type": "code",
      "execution_count": null,
      "metadata": {},
      "outputs": [],
      "source": []
    },
    {
      "cell_type": "code",
      "execution_count": null,
      "metadata": {},
      "outputs": [],
      "source": []
    }
  ],
  "metadata": {
    "colab": {
      "provenance": []
    },
    "kernelspec": {
      "display_name": "Python 3",
      "language": "python",
      "name": "python3"
    },
    "language_info": {
      "codemirror_mode": {
        "name": "ipython",
        "version": 3
      },
      "file_extension": ".py",
      "mimetype": "text/x-python",
      "name": "python",
      "nbconvert_exporter": "python",
      "pygments_lexer": "ipython3",
      "version": "3.9.6"
    },
    "orig_nbformat": 4,
    "vscode": {
      "interpreter": {
        "hash": "31f2aee4e71d21fbe5cf8b01ff0e069b9275f58929596ceb00d14d90e3e16cd6"
      }
    }
  },
  "nbformat": 4,
  "nbformat_minor": 0
}
